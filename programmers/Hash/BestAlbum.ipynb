{
 "cells": [
  {
   "cell_type": "code",
   "execution_count": null,
   "id": "13e66bf7",
   "metadata": {},
   "outputs": [],
   "source": [
    "# BestAlbum case\n",
    "bestalbum_cases = [\n",
    "    [[\"classic\", \"pop\", \"classic\", \"classic\", \"pop\"], [500, 600, 150, 800, 2500], [4, 1, 3, 0]]\n",
    "]"
   ]
  },
  {
   "cell_type": "code",
   "execution_count": 107,
   "id": "e382991d",
   "metadata": {
    "scrolled": false
   },
   "outputs": [
    {
     "data": {
      "text/plain": [
       "[4, 1, 3, 0]"
      ]
     },
     "execution_count": 107,
     "metadata": {},
     "output_type": "execute_result"
    }
   ],
   "source": [
    "#Seungjun\n",
    "from collections import defaultdict\n",
    "\n",
    "genres = [\"classic\", \"pop\", \"classic\", \"classic\", \"pop\"]\n",
    "plays = [500, 600, 150, 800, 2500]\n",
    "def solution(genres, plays):\n",
    "    answer = []\n",
    "    play_dict = defaultdict(list)\n",
    "    total_dict = defaultdict(int)\n",
    "    for i in range(len(genres)):\n",
    "        genre = genres[i] #        time error 원인 1\n",
    "        play = plays[i]\n",
    "        total_dict[genre] += play\n",
    "        play_dict[genre].append([i, play])\n",
    "    genres = list(set(genres))\n",
    "    genres.sort(key= lambda x: total_dict[x], reverse = True)\n",
    "    \n",
    "    for genre in genres:\n",
    "        play_dict[genre].sort(key = lambda x: x[1], reverse = True)\n",
    "        for i in play_dict[genre][:2]:\n",
    "            answer.append(i[0])\n",
    "#             if len(answer) == 4:             #        time error 원인 2 인줄 알았는데 아예 정답이 틀린거였음\n",
    "#                 return answer\n",
    "\n",
    "    return answer\n",
    "\n",
    "solution(genres, plays)"
   ]
  },
  {
   "cell_type": "code",
   "execution_count": null,
   "id": "1f549bb4",
   "metadata": {},
   "outputs": [],
   "source": [
    "# Sangheon\n",
    "def solution(genres, plays):\n",
    "    answer = []\n",
    "    musicDict = {}\n",
    "    genreDict = {}\n",
    "    for i in range(len(genres)):\n",
    "        genre = genres[i]\n",
    "        play = plays[i]\n",
    "        musicList = musicDict.get(genre, [])\n",
    "        musicList.append({\"id\": i, \"play\": play})\n",
    "        musicDict[genre] = musicList\n",
    "        genreDict[genre] = genreDict.get(genre, 0) + play\n",
    "    keys = list(genreDict.keys())\n",
    "    keys.sort(key = lambda x: genreDict[x], reverse = True)\n",
    "    for key in keys:\n",
    "        value = musicDict[key]\n",
    "        value.sort(key = lambda x: x[\"play\"], reverse = True)\n",
    "        for e in value[:2]:\n",
    "            answer.append(e[\"id\"])\n",
    "    return answer\n"
   ]
  }
 ],
 "metadata": {
  "kernelspec": {
   "display_name": "Python 3 (ipykernel)",
   "language": "python",
   "name": "python3"
  },
  "language_info": {
   "codemirror_mode": {
    "name": "ipython",
    "version": 3
   },
   "file_extension": ".py",
   "mimetype": "text/x-python",
   "name": "python",
   "nbconvert_exporter": "python",
   "pygments_lexer": "ipython3",
   "version": "3.7.10"
  }
 },
 "nbformat": 4,
 "nbformat_minor": 5
}
