{
 "cells": [
  {
   "cell_type": "code",
   "execution_count": null,
   "id": "d5c1388c",
   "metadata": {},
   "outputs": [],
   "source": [
    "# PhoneBook case\n",
    "phonebook_cases = [\n",
    "    [[\"119\", \"97674223\", \"1195524421\"], False],\n",
    "    [[\"123\",\"456\",\"789\"], True],\n",
    "    [[\"12\",\"123\",\"1235\",\"567\",\"88\"], False]\n",
    "]"
   ]
  },
  {
   "cell_type": "code",
   "execution_count": 29,
   "id": "387064e0",
   "metadata": {},
   "outputs": [
    {
     "name": "stdout",
     "output_type": "stream",
     "text": [
      "{'123': 1, '456': 1, '789': 1}\n",
      "1\n",
      "phone_number: 123\n",
      "number: 1 temp: 1\n",
      "number: 2 temp: 12\n",
      "number: 3 temp: 123\n",
      "2\n",
      "phone_number: 456\n",
      "number: 4 temp: 4\n",
      "number: 5 temp: 45\n",
      "number: 6 temp: 456\n",
      "3\n",
      "phone_number: 789\n",
      "number: 7 temp: 7\n",
      "number: 8 temp: 78\n",
      "number: 9 temp: 789\n"
     ]
    },
    {
     "data": {
      "text/plain": [
       "True"
      ]
     },
     "execution_count": 29,
     "metadata": {},
     "output_type": "execute_result"
    }
   ],
   "source": [
    "#Seungjun\n",
    "# phone_book = [\"123\", \"12374223\", \"1195524421\",\"1561246\",\"2457345\",\"34681234\"]\n",
    "phone_book = [\"123\",\"456\",\"789\"]\n",
    "\n",
    "def solution(phone_book):\n",
    "    phone_book.sort()\n",
    "    \n",
    "    for a, b in zip(phone_book, phone_book[1:]):\n",
    "         if b.startswith(a):\n",
    "                return False\n",
    "    return True\n",
    "\n",
    "def solution2(phone_book):\n",
    "    \n",
    "    hash_map = {}\n",
    "    for phone_number in phone_book:\n",
    "        hash_map[phone_number] = 1\n",
    "    #print(hash_map)\n",
    "    for phone_number in phone_book:\n",
    "        #print(\"\")\n",
    "        #print(\"phone_number:\", phone_number)\n",
    "        \n",
    "        temp = \"\"\n",
    "        for number in phone_number:\n",
    "            temp += number\n",
    "            #print(\"number:\", number, \"temp:\", temp)\n",
    "            if temp in hash_map and temp != phone_number:\n",
    "                return False\n",
    "        \n",
    "    return True\n",
    "\n",
    "solution2(phone_book)"
   ]
  },
  {
   "cell_type": "code",
   "execution_count": null,
   "id": "e220cda3",
   "metadata": {},
   "outputs": [],
   "source": [
    "# Sangheon\n",
    "def solution(phoneBook):\n",
    "    phoneBook.sort()\n",
    "    for p1, p2 in zip(phoneBook, phoneBook[1:]):\n",
    "        if p2.startswith(p1):\n",
    "            return False\n",
    "    return True\n"
   ]
  }
 ],
 "metadata": {
  "kernelspec": {
   "display_name": "Python 3 (ipykernel)",
   "language": "python",
   "name": "python3"
  },
  "language_info": {
   "codemirror_mode": {
    "name": "ipython",
    "version": 3
   },
   "file_extension": ".py",
   "mimetype": "text/x-python",
   "name": "python",
   "nbconvert_exporter": "python",
   "pygments_lexer": "ipython3",
   "version": "3.7.10"
  }
 },
 "nbformat": 4,
 "nbformat_minor": 5
}
