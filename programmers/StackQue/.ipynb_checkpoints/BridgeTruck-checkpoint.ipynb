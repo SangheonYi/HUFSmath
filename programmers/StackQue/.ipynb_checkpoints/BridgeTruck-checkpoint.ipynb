{
 "cells": [
  {
   "cell_type": "code",
   "execution_count": null,
   "id": "c288bc3e",
   "metadata": {},
   "outputs": [],
   "source": [
    "# BridgeTruck case\n",
    "bridgetruck_cases = [\n",
    "    [2, 10, [7,4,5,6], 8],\n",
    "    [100, 100, [10], 101],\n",
    "    [100, 100, [10,10,10,10,10,10,10,10,10,10], 110],\n",
    "]"
   ]
  },
  {
   "cell_type": "code",
   "execution_count": 1,
   "id": "88689b05",
   "metadata": {},
   "outputs": [],
   "source": [
    "#Seungjun\n",
    "from collections import deque\n",
    "\n",
    "def solution(bridge_length, weight, truck_weights):\n",
    "    crossing = deque()\n",
    "    waiting = deque(truck_weights)\n",
    "    answer=0\n",
    "    while waiting or crossing:\n",
    "        \n",
    "        if sum(crossing)+waiting.popleft() < weight:\n",
    "            if \n",
    "        crossing.popleft()\n",
    "        answer +=1\n",
    "    \n",
    "    return answer"
   ]
  },
  {
   "cell_type": "code",
   "execution_count": null,
   "id": "743ede59",
   "metadata": {},
   "outputs": [],
   "source": [
    "# Sangheon\n",
    "from collections import deque\n",
    "\n",
    "def solution(bridge_length, weight, truck_weights):\n",
    "    crossing = deque()\n",
    "    arrive_time = deque()\n",
    "    waiting = deque(truck_weights)\n",
    "    answer = 1\n",
    "    while waiting or crossing:\n",
    "        # arrive\n",
    "        if crossing and arrive_time and answer == arrive_time[0]:\n",
    "            crossing.popleft()\n",
    "            arrive_time.popleft()\n",
    "        # depart\n",
    "        crossingSum = sum(crossing)\n",
    "        if waiting and crossingSum + waiting[0] <=  weight:\n",
    "            crossing.append(waiting.popleft())\n",
    "            arrive_time.append(answer + bridge_length)\n",
    "            answer += 1\n",
    "        elif arrive_time:\n",
    "            answer = arrive_time[0]\n",
    "    return answer\n"
   ]
  }
 ],
 "metadata": {
  "kernelspec": {
   "display_name": "Python 3 (ipykernel)",
   "language": "python",
   "name": "python3"
  },
  "language_info": {
   "codemirror_mode": {
    "name": "ipython",
    "version": 3
   },
   "file_extension": ".py",
   "mimetype": "text/x-python",
   "name": "python",
   "nbconvert_exporter": "python",
   "pygments_lexer": "ipython3",
   "version": "3.7.10"
  }
 },
 "nbformat": 4,
 "nbformat_minor": 5
}
