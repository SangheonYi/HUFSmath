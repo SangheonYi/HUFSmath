{
 "cells": [
  {
   "cell_type": "code",
   "execution_count": null,
   "id": "2d122416",
   "metadata": {},
   "outputs": [],
   "source": [
    "# Printer case\n",
    "printer_cases = [\n",
    "    [[2, 1, 3, 2], 2, 1],\n",
    "    [[1, 1, 9, 1, 1, 1], 0, 5],\n",
    "    [[1], 0, 1],\n",
    "]"
   ]
  },
  {
   "cell_type": "code",
   "execution_count": null,
   "id": "bfa8d29e",
   "metadata": {},
   "outputs": [],
   "source": [
    "# Sangheon\n",
    "from collections import deque\n",
    "\n",
    "def solution(priorities, location):\n",
    "    deq = deque(priorities)\n",
    "    cnt = 0\n",
    "    while deq:\n",
    "        highest_priority = max(deq)\n",
    "        pop = deq.popleft()\n",
    "        location -= 1\n",
    "        if pop >= highest_priority:\n",
    "            cnt += 1\n",
    "            if location == -1:\n",
    "                return cnt\n",
    "        else:\n",
    "            deq.append(pop)\n",
    "            if location == -1:\n",
    "                location = len(deq) - 1\n",
    "    return len(priorities)\n"
   ]
  }
 ],
 "metadata": {
  "kernelspec": {
   "display_name": "Python 3 (ipykernel)",
   "language": "python",
   "name": "python3"
  },
  "language_info": {
   "codemirror_mode": {
    "name": "ipython",
    "version": 3
   },
   "file_extension": ".py",
   "mimetype": "text/x-python",
   "name": "python",
   "nbconvert_exporter": "python",
   "pygments_lexer": "ipython3",
   "version": "3.7.10"
  }
 },
 "nbformat": 4,
 "nbformat_minor": 5
}
