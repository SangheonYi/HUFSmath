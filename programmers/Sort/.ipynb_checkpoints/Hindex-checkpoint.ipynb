{
 "cells": [
  {
   "cell_type": "code",
   "execution_count": 1,
   "id": "5a0eae21",
   "metadata": {},
   "outputs": [],
   "source": [
    "# Hindex case\n",
    "hindex_cases = [\n",
    "    # [[3, 0, 6, 1, 5], 3],\n",
    "    [[3, 0, 6, 1, 5], 3 ],\n",
    "    [[0, 0, 0, 0, 0], 0 ],\n",
    "    [[0, 0, 0, 0, 1], 1 ],\n",
    "    [[9, 9, 9, 12], 4 ],\n",
    "    [[0], 0 ],\n",
    "    [[0, 0], 0 ],\n",
    "    [[9, 7, 6, 2, 1], 3],\n",
    "    [[10, 8, 5, 4, 3], 4],\n",
    "    [[25, 8, 5, 3, 3], 3],\n",
    "    [[8, 7, 6, 5, 4], 4],\n",
    "]"
   ]
  },
  {
   "cell_type": "code",
   "execution_count": null,
   "id": "ead05625",
   "metadata": {},
   "outputs": [],
   "source": [
    "# Sangheon\n",
    "def solution(citations):\n",
    "    citations.sort(reverse=True)\n",
    "    length = len(citations)\n",
    "    right = length - 1\n",
    "    left = 0\n",
    "    answer = right\n",
    "    while left <= right:\n",
    "        mid = int((left + right) / 2)\n",
    "        e = citations[mid]\n",
    "        if e <= mid:\n",
    "            answer = mid\n",
    "            right = mid - 1\n",
    "        else:\n",
    "            left = mid + 1\n",
    "    if answer == length - 1 and citations[-1] > length - 1:\n",
    "        return length\n",
    "    return answer\n",
    "\n",
    "# def solution(citations):\n",
    "#     citations.sort(reverse=True)\n",
    "#     for i, e in enumerate(citations):\n",
    "#         if e <= i:\n",
    "#             return i\n",
    "#     return len(citations)\n"
   ]
  }
 ],
 "metadata": {
  "kernelspec": {
   "display_name": "Python 3 (ipykernel)",
   "language": "python",
   "name": "python3"
  },
  "language_info": {
   "codemirror_mode": {
    "name": "ipython",
    "version": 3
   },
   "file_extension": ".py",
   "mimetype": "text/x-python",
   "name": "python",
   "nbconvert_exporter": "python",
   "pygments_lexer": "ipython3",
   "version": "3.7.10"
  }
 },
 "nbformat": 4,
 "nbformat_minor": 5
}
