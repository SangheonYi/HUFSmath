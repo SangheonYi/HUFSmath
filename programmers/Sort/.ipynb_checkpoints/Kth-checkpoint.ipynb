{
 "cells": [
  {
   "cell_type": "code",
   "execution_count": null,
   "id": "ca18e4ab",
   "metadata": {},
   "outputs": [],
   "source": [
    "# Kth case\n",
    "kth_cases = [\n",
    "    [[1, 5, 2, 6, 3, 7, 4], [[2, 5, 3], [4, 4, 1], [1, 7, 3]], [5, 6, 3]],\n",
    "]"
   ]
  },
  {
   "cell_type": "code",
   "execution_count": null,
   "id": "2f73ae59",
   "metadata": {},
   "outputs": [],
   "source": [
    "# Sangheon\n",
    "\n",
    "def solution(array, commands):\n",
    "    answer = []\n",
    "    for e in commands:\n",
    "        splited = array[e[0] - 1:e[1]]\n",
    "        splited.sort()\n",
    "        answer.append(splited[e[2] - 1])\n",
    "    return answer"
   ]
  }
 ],
 "metadata": {
  "kernelspec": {
   "display_name": "Python 3 (ipykernel)",
   "language": "python",
   "name": "python3"
  },
  "language_info": {
   "codemirror_mode": {
    "name": "ipython",
    "version": 3
   },
   "file_extension": ".py",
   "mimetype": "text/x-python",
   "name": "python",
   "nbconvert_exporter": "python",
   "pygments_lexer": "ipython3",
   "version": "3.7.10"
  }
 },
 "nbformat": 4,
 "nbformat_minor": 5
}
